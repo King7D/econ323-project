{
 "cells": [
  {
   "cell_type": "markdown",
   "metadata": {},
   "source": [
    "## Time-Series Visualization of Weather Variables:\n",
    "- Create line charts that show the variation of dew point, humidex, and temperature over time. This can help identify seasonal trends such as increases in humidity during summer months or sudden temperature drops during winter.\n",
    "## Heatmaps for Correlation Analysis:\n",
    "- Use heatmaps to visualize the correlations between different weather variables such as temperature, wind speed, and dew point to understand how these factors are related throughout the year.\n",
    "## Anomaly Detection Using Scatter Plots:\n",
    "- Scatter plots can highlight potential anomalies, such as unusual temperature spikes or sudden drops in dew point during specific time periods. Outliers could be marked for further investigation.\n",
    "## Comparison of Historical Extremes:\n",
    "- Visualize the maximum and minimum recorded values for dew point, temperature, and wind speed over the years to compare the historical extremes to current observations.\n"
   ]
  },
  {
   "cell_type": "markdown",
   "metadata": {},
   "source": []
  }
 ],
 "metadata": {
  "language_info": {
   "name": "python"
  }
 },
 "nbformat": 4,
 "nbformat_minor": 2
}
