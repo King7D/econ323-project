{
 "cells": [
  {
   "cell_type": "markdown",
   "metadata": {},
   "source": [
    "## Introduction\n",
    "- Understanding weather patterns is crucial for various sectors such as agriculture, transportation, and disaster management. Weather variables like temperature, dew point, humidex, and wind speed play significant roles in daily life and long-term planning. With the advent of big data and advanced visualization tools, we can now analyze vast amounts of weather data to uncover hidden patterns, correlations, and anomalies that were previously difficult to detect.\n",
    "\n",
    "- This project aims to leverage data visualization techniques to analyze Vancouver's weather over time. By creating line charts, heatmaps, and scatter plots, we will identify seasonal trends, unstand inter-variable relationships, detect anomalies, and compare historical extremes with current observations.\n",
    "\n",
    "## Objectives\n",
    "1. Time-series\n",
    "- Create line charts to display the variation of dew point, humidex, and temeprature over time\n",
    "- Identify seasonal trends such as increases in humidity during summer months or sudden temperature drops during winter\n",
    "\n",
    "2. Heatmaps\n",
    "- Use heatmaps to visualize correlations between different weather variables\n",
    "- Understand how these factors are iterrelated thorughout the year\n",
    "\n",
    "3. Scatter plot\n",
    "- Use scatter pltos to highlight potential anomalies, such as unusual temperature spikes or sudden drops in dew point during specific period\n",
    "\n",
    "4. Comparison of historical extremes\n",
    "- Visualize the maximum and minimum recorded values over years\n",
    "- Compare historical extremes to current observations to assess changes over time\n",
    "\n",
    "## Expected Outcomes\n",
    "1. Seasonal Trends Identification\n",
    "- Clear visualization of how temperature and other variables vary seasonlly\n",
    "- Insights into patterns such as increased humidity during winter or increased wind speed in winters.\n",
    "\n",
    "2. Correlations Identification\n",
    "- Identification of variables that have significant impacts on each other\n",
    "\n",
    "3. Anomaly Detection\n",
    "- A list of identified anomalies in the weather data.\n",
    "- Possible explanations or hypotheses for these anomalies\n",
    "\n",
    "4. Historical Comaprion Insights\n",
    "- Visualization showing how current weather extrems comapre to historical data\n",
    "-Analysis of trends indicating climate change effects or unusual weather patterns.\n",
    "\n",
    "## Data Source\n",
    "- Vancouver Climate Daily/Forcast/Sun\n",
    "- https://vancouver.weatherstats.ca/download.html"
   ]
  },
  {
   "cell_type": "markdown",
   "metadata": {},
   "source": []
  }
 ],
 "metadata": {
  "language_info": {
   "name": "python"
  }
 },
 "nbformat": 4,
 "nbformat_minor": 2
}
