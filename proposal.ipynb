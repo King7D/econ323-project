{
 "cells": [
  {
   "cell_type": "markdown",
   "metadata": {},
   "source": [
    "## Group Members\n",
    "\n",
    "Eric Wang 13081260\n",
    "Christine Liu 92481050\n",
    "\n",
    "## Introduction\n",
    "- Understanding weather patterns is crucial for various sectors such as agriculture, transportation, and disaster management. Weather variables like temperature, dew point, humidex, and wind speed play significant roles in daily life and long-term planning. With the advent of big data and advanced visualization tools, we can now analyze vast amounts of weather data to uncover hidden patterns, correlations, and anomalies that were previously difficult to detect.\n",
    "\n",
    "- This project aims to leverage data visualization techniques to analyze Vancouver's weather over time. By creating line charts, heatmaps, and scatter plots, we will identify seasonal trends, unstand inter-variable relationships, detect anomalies, and compare historical extremes with current observations.\n",
    "\n",
    "## Objectives\n",
    "1. Time-series\n",
    "- Create line charts to display the variation of dew point, humidex, and temeprature over time\n",
    "- Identify seasonal trends such as increases in humidity during summer months or sudden temperature drops during winter\n",
    "\n",
    "2. Heatmaps\n",
    "- Use heatmaps to visualize correlations between different weather variables\n",
    "- Understand how these factors are iterrelated thorughout the year\n",
    "\n",
    "3. Scatter plot\n",
    "- Use scatter plots to highlight potential anomalies, such as unusual temperature spikes or sudden drops in dew point during specific periods\n",
    "\n",
    "4. Comparison of historical extremes\n",
    "- Visualize the maximum and minimum recorded values over years\n",
    "- Compare historical extremes to current observations to assess changes over time\n",
    "\n",
    "## Expected Outcomes\n",
    "1. Seasonal Trends Identification\n",
    "- Clear visualization of how temperature and other variables vary seasonlly\n",
    "- Insights into patterns such as increased humidity during winter or increased wind speed in winters\n",
    "\n",
    "2. Correlations Identification\n",
    "- Identification of variables that have significant impacts on each other\n",
    "\n",
    "3. Anomaly Detection\n",
    "- A list of identified anomalies in the weather data\n",
    "- Possible explanations or hypotheses for these anomalies\n",
    "\n",
    "4. Historical Comaprion Insights\n",
    "- Visualization showing how current weather extremes comapare to historical data\n",
    "- Analysis of trends indicating climate change effects or unusual weather patterns\n",
    "\n",
    "## Data Source\n",
    "- Vancouver Climate Daily/Forcast/Sun\n",
    "- https://vancouver.weatherstats.ca/download.html"
   ]
  },
  {
   "cell_type": "markdown",
   "metadata": {},
   "source": []
  }
 ],
 "metadata": {
  "kernelspec": {
   "display_name": "Python 3 (ipykernel)",
   "language": "python",
   "name": "python3"
  },
  "language_info": {
   "codemirror_mode": {
    "name": "ipython",
    "version": 3
   },
   "file_extension": ".py",
   "mimetype": "text/x-python",
   "name": "python",
   "nbconvert_exporter": "python",
   "pygments_lexer": "ipython3",
   "version": "3.11.9"
  }
 },
 "nbformat": 4,
 "nbformat_minor": 4
}
